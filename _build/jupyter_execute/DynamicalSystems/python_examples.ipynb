{
 "cells": [
  {
   "cell_type": "markdown",
   "id": "d6aea466",
   "metadata": {},
   "source": [
    "# Python code\n",
    "\n",
    "This section of the notes collects together some of the Python material from previous sections, to help you with the coursework.\n",
    "\n",
    "\n",
    "## Import packages as required\n",
    "\n",
    "The `numpy` function library is required for numeric calculations. It allows us to do mathematics using transcendental quantities such as $\\pi$ and $e$, and it introduces mathematical functions such as $\\sin$ and $\\cos$. In the preamble below we import the library using a convenient short name `np`. Therefore to use the definitions from this library we have to type `np.def` where `def` is the definition or function that we want to use. Crucially, the `numpy` library also allows us to create and work with arrays, whilst other mathematical libraries in Python do not have this functionality.\n",
    "\n",
    "The `matplotlib.pyplot` library is used to make plots of our results. In the preamble below we import the library using a convenient short name `plt`. It allows us to create a variety of figures, including `plot`, `quiver`, and `streamplot` types.\n",
    "\n",
    "The `scipy` library is a very powerful suite of scientific methods. We will only use one function from this vast library, and so we import it with its own name. The `odeint` function is used to solve ordinary differential equations."
   ]
  },
  {
   "cell_type": "code",
   "execution_count": 1,
   "id": "8ac585a9",
   "metadata": {},
   "outputs": [
    {
     "ename": "ModuleNotFoundError",
     "evalue": "No module named 'scipy'",
     "output_type": "error",
     "traceback": [
      "\u001b[0;31m---------------------------------------------------------------------------\u001b[0m",
      "\u001b[0;31mModuleNotFoundError\u001b[0m                       Traceback (most recent call last)",
      "Input \u001b[0;32mIn [1]\u001b[0m, in \u001b[0;36m<cell line: 3>\u001b[0;34m()\u001b[0m\n\u001b[1;32m      1\u001b[0m \u001b[38;5;28;01mimport\u001b[39;00m \u001b[38;5;21;01mnumpy\u001b[39;00m \u001b[38;5;28;01mas\u001b[39;00m \u001b[38;5;21;01mnp\u001b[39;00m\n\u001b[1;32m      2\u001b[0m \u001b[38;5;28;01mimport\u001b[39;00m \u001b[38;5;21;01mmatplotlib\u001b[39;00m\u001b[38;5;21;01m.\u001b[39;00m\u001b[38;5;21;01mpyplot\u001b[39;00m \u001b[38;5;28;01mas\u001b[39;00m \u001b[38;5;21;01mplt\u001b[39;00m\n\u001b[0;32m----> 3\u001b[0m \u001b[38;5;28;01mfrom\u001b[39;00m \u001b[38;5;21;01mscipy\u001b[39;00m\u001b[38;5;21;01m.\u001b[39;00m\u001b[38;5;21;01mintegrate\u001b[39;00m \u001b[38;5;28;01mimport\u001b[39;00m odeint\n",
      "\u001b[0;31mModuleNotFoundError\u001b[0m: No module named 'scipy'"
     ]
    }
   ],
   "source": [
    "import numpy as np\n",
    "import matplotlib.pyplot as plt\n",
    "from scipy.integrate import odeint"
   ]
  },
  {
   "cell_type": "markdown",
   "id": "c6dbbbe3",
   "metadata": {},
   "source": [
    "## Make a line series\n",
    "\n",
    "To make a line series plot we need to define a set of $x$ values and corresponding $y$ values. The example below produces a plot of $\\sin(x)$ between $x=0$ and $x=1$.\n",
    "\n",
    "The function `linspace(start,end,n)` is used to generate a list of $n$ equally spaced values between the specified start and end values."
   ]
  },
  {
   "cell_type": "code",
   "execution_count": null,
   "id": "c76e9712",
   "metadata": {},
   "outputs": [],
   "source": [
    "x=np.linspace(0,1,1000)\n",
    "y=np.sin(x)\n",
    "plt.plot(x,y)\n",
    "plt.show()"
   ]
  },
  {
   "cell_type": "markdown",
   "id": "d06d6586",
   "metadata": {},
   "source": [
    "## Set up and solve an ODE for given conditions\n",
    "\n",
    "The `odeint` solver is designed to solve systems of the following form:\n",
    "\n",
    "\\begin{equation*}\n",
    "\\frac{\\mathrm{d}}{\\mathrm{d}t}X=f(X,t,\\dots)\n",
    "\\end{equation*}\n",
    "\n",
    "where $\\dots$ is a list of parameters. For example, in {numref}`undamp-pend` we looked at the following system involving parameters $\\omega$ and $k$:\n",
    "\n",
    "\\begin{equation*}\n",
    "\\frac{\\mathrm{d}}{\\mathrm{d}t}\\begin{bmatrix}x\\\\y\\end{bmatrix}=\\begin{bmatrix}y\\\\-\\omega^2\\sin(x)-ky\\end{bmatrix}\n",
    "\\end{equation*}\n",
    "\n",
    "In this example there is no explicit time-dependence in function $f$, but we have to include `t` in our list of input arguments for the function definition, because `odeint` expects this.\n",
    "\n",
    "We can write our function definition as follows. Here, we have named the function `pend`, but you can choose any name for your function.\n",
    "\n",
    "Since `X` is supposed to be a state $X=[x,y]$, writing `X[0]` refers to the $x$ value and writing `X[1]` refers to the $y$ value."
   ]
  },
  {
   "cell_type": "code",
   "execution_count": null,
   "id": "5467b6e4",
   "metadata": {},
   "outputs": [],
   "source": [
    "def pend(X,t,w,k):\n",
    "  dxdt = X[1]\n",
    "  dydt = -w**2*np.sin(X[0])-k*X[1]\n",
    "  return [dxdt, dydt]"
   ]
  },
  {
   "cell_type": "markdown",
   "id": "b97570e5",
   "metadata": {},
   "source": [
    "To solve the ode we have to provide initial conditions and parameter values. We also have to define the list of time points that we want to find the solution for."
   ]
  },
  {
   "cell_type": "code",
   "execution_count": null,
   "id": "c0e2b027",
   "metadata": {},
   "outputs": [],
   "source": [
    "t0=0; X0=[1,0] #initial conditions for t,x,y\n",
    "w=1; k=0\n",
    "\n",
    "tmax=20\n",
    "t = np.linspace(0,20,100)    # time points\n",
    "\n",
    "# solve ODE\n",
    "X = odeint(pend,X0,t,args=(w,k))"
   ]
  },
  {
   "cell_type": "markdown",
   "id": "21a5a71b",
   "metadata": {},
   "source": [
    "The output `X` returned by the solver will be an array. Each column in the array gives the values of one of the dependent variables at the time points we specified. Here the first column `X[:,0]` contains the results for $x$ and the second column `X[:,1]` contains the results for $y$.\n",
    "\n",
    "```{admonition} Test yourself!\n",
    "* Plot the time series for $x(t)$\n",
    "* Plot the phase portrait for $(x,y)$\n",
    "```\n",
    "````{toggle}\n",
    "The solutions are simply\n",
    "\n",
    "```{code}\n",
    "plt.plot(t,X[:,0])\n",
    "plt.plot(X[:,0],X[:,1])\n",
    "```\n",
    "\n",
    "You can add axis labels and further customise the plot using techniques such as\n",
    "\n",
    "```{code}\n",
    "plt.xlabel('x')\n",
    "plt.xlim([0,,10])\n",
    "```\n",
    "\n",
    "````\n",
    "\n",
    "## Vector plots and stream plots\n",
    "\n",
    "To produce vector and stream plots we first need to define a grid. We do this by specifying lists of $x$ and $y$ values that cover the domain we are interested in. We then use the `meshgrid` function to combine the lists into a grid of coordinates.\n",
    "\n",
    "In this example we will create a grid covering $x,y\\in[-2,2]$, with 20 grid points in each direction."
   ]
  },
  {
   "cell_type": "code",
   "execution_count": null,
   "id": "4253cbac",
   "metadata": {},
   "outputs": [],
   "source": [
    "x = np.linspace(-2,2,20)\n",
    "y = np.linspace(-2,2,20)\n",
    "[X,Y]=np.meshgrid(x,y)"
   ]
  },
  {
   "cell_type": "markdown",
   "id": "462c9482",
   "metadata": {},
   "source": [
    "Where `x,y` were 1D arrays corresponding to the coordinate axes, `X,Y` are 2D arrays corresponding to the ordinate values on the grid. Each pair of values from (`X`,`Y`) in matching positions defines a single coordinate.\n",
    "\n",
    "We can use `X,Y` to create vector field values on the grid. For example, in {numref}`unst-nod` we constructed the vector field for $(u,v)$ such that\n",
    "\n",
    "\\begin{align}\n",
    "u&=4x+y\\\\\n",
    "v&=2x+3y\n",
    "\\end{align}\n",
    "\n",
    "The code we need is shown below. We must take care to use the grid values `X,Y` to create the vector field, not the axis values `x,y`."
   ]
  },
  {
   "cell_type": "code",
   "execution_count": null,
   "id": "a2167678",
   "metadata": {},
   "outputs": [],
   "source": [
    "(U,V)=(4*X+Y,2*X+3*Y)"
   ]
  },
  {
   "cell_type": "markdown",
   "id": "b124ddcc",
   "metadata": {},
   "source": [
    "Finally, we can plot the vector field using `quiver` or we can (attempt) to create the paths tangent to the vector field by using `streamplot`."
   ]
  },
  {
   "cell_type": "code",
   "execution_count": null,
   "id": "823c0b5b",
   "metadata": {},
   "outputs": [],
   "source": [
    "plt.quiver(X,Y,U,V)\n",
    "plt.show()"
   ]
  },
  {
   "cell_type": "code",
   "execution_count": null,
   "id": "ab08d197",
   "metadata": {},
   "outputs": [],
   "source": [
    "plt.streamplot(X,Y,U,V)\n",
    "plt.show()"
   ]
  },
  {
   "cell_type": "markdown",
   "id": "11825ef0",
   "metadata": {},
   "source": [
    "Note that the quality of the streamplot is poor. It can be made to look much better with more sophisticated use of the `streamplot` function, but this is not something that you will be required to do."
   ]
  }
 ],
 "metadata": {
  "jupytext": {
   "formats": "md:myst",
   "text_representation": {
    "extension": ".md",
    "format_name": "myst",
    "format_version": 0.13,
    "jupytext_version": "1.10.3"
   }
  },
  "kernelspec": {
   "display_name": "Python 3",
   "language": "python",
   "name": "python3"
  },
  "language_info": {
   "codemirror_mode": {
    "name": "ipython",
    "version": 3
   },
   "file_extension": ".py",
   "mimetype": "text/x-python",
   "name": "python",
   "nbconvert_exporter": "python",
   "pygments_lexer": "ipython3",
   "version": "3.10.4"
  },
  "source_map": [
   13,
   28,
   32,
   40,
   45,
   67,
   72,
   76,
   85,
   116,
   120,
   133,
   135,
   139,
   144,
   147
  ]
 },
 "nbformat": 4,
 "nbformat_minor": 5
}